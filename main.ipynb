{
 "cells": [
  {
   "cell_type": "markdown",
   "metadata": {},
   "source": [
    "*Input space size and bins*"
   ]
  },
  {
   "cell_type": "code",
   "execution_count": 9,
   "metadata": {},
   "outputs": [],
   "source": [
    "from bin import Bin"
   ]
  },
  {
   "cell_type": "markdown",
   "metadata": {},
   "source": [
    "*Initialice inputs*"
   ]
  },
  {
   "cell_type": "code",
   "execution_count": 13,
   "metadata": {},
   "outputs": [],
   "source": [
    "#quantity for each bin defined in bin_dims\n",
    "bin_quantities = [2,3,1,3,1]\n",
    "#[width, height]\n",
    "bin_dims = [[1,3],[2,4],[1,4],[3,3],[1,1]]\n",
    "#material size\n",
    "area = [5,6]"
   ]
  },
  {
   "cell_type": "code",
   "execution_count": 14,
   "metadata": {},
   "outputs": [
    {
     "name": "stdout",
     "output_type": "stream",
     "text": [
      "[0, 0, 1, 3]\n",
      "[0, 0, 2, 4]\n",
      "[0, 0, 1, 4]\n",
      "[0, 0, 3, 3]\n",
      "[0, 0, 1, 1]\n"
     ]
    }
   ],
   "source": [
    "bin_area = Bin(*area)\n",
    "bin_list = [Bin(*dim) for dim in bin_dims]\n",
    "\n",
    "for b in bin_list:\n",
    "    print(b.get_coordinates())"
   ]
  },
  {
   "cell_type": "code",
   "execution_count": null,
   "metadata": {},
   "outputs": [],
   "source": []
  }
 ],
 "metadata": {
  "kernelspec": {
   "display_name": "Python 3.10.5 64-bit ('3.10.5')",
   "language": "python",
   "name": "python3"
  },
  "language_info": {
   "codemirror_mode": {
    "name": "ipython",
    "version": 3
   },
   "file_extension": ".py",
   "mimetype": "text/x-python",
   "name": "python",
   "nbconvert_exporter": "python",
   "pygments_lexer": "ipython3",
   "version": "3.10.5"
  },
  "orig_nbformat": 4,
  "vscode": {
   "interpreter": {
    "hash": "3ade41bec6c26bfb1b0a68e93966ada3966e872aeed9c65db90c67352ca8deff"
   }
  }
 },
 "nbformat": 4,
 "nbformat_minor": 2
}
