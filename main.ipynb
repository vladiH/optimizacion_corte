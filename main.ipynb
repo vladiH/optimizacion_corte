{
 "cells": [
  {
   "cell_type": "markdown",
   "metadata": {},
   "source": [
    "*Input space size and bins*"
   ]
  },
  {
   "cell_type": "code",
   "execution_count": 3,
   "metadata": {},
   "outputs": [],
   "source": [
    "from guillotine_algorithm import GuillotineAlgorithm\n",
    "from genetic_algorithm import GeneticAlgorithm\n",
    "import utils"
   ]
  },
  {
   "cell_type": "markdown",
   "metadata": {},
   "source": [
    "*Initialice inputs*"
   ]
  },
  {
   "cell_type": "code",
   "execution_count": 4,
   "metadata": {},
   "outputs": [],
   "source": [
    "#quantity for each bin defined in bin_dims\n",
    "bin_quantities = [1,1,1,1,1]\n",
    "#[width, height]\n",
    "bin_dims = [([4,1],'1'),([4,2],'2'),([4,3],'3'),([4,2],'4'),([4,1],'5')]\n",
    "#material size\n",
    "area = [4,9]"
   ]
  },
  {
   "cell_type": "code",
   "execution_count": 3,
   "metadata": {},
   "outputs": [
    {
     "data": {
      "text/plain": [
       "[([0, 0, 4, 1], '1'),\n",
       " ([0, 0, 4, 2], '2'),\n",
       " ([0, 0, 4, 3], '3'),\n",
       " ([0, 0, 4, 2], '4'),\n",
       " ([0, 0, 4, 1], '5')]"
      ]
     },
     "execution_count": 3,
     "metadata": {},
     "output_type": "execute_result"
    }
   ],
   "source": [
    "bin_dims = [(utils.vectorToCoordinates(bin[0]),bin[1]) for bin in bin_dims]\n",
    "zip_bins = list(zip(bin_quantities,bin_dims))\n",
    "bin_dims = []\n",
    "for x in zip_bins:\n",
    "    bin_dims.extend(x[0]*[x[1]])\n",
    "area = utils.vectorToCoordinates(area)\n",
    "bin_dims"
   ]
  },
  {
   "cell_type": "code",
   "execution_count": 4,
   "metadata": {},
   "outputs": [
    {
     "name": "stdout",
     "output_type": "stream",
     "text": [
      "[([0, 0, 4, 1], '1'), ([0, 0, 4, 2], '2'), ([0, 0, 4, 3], '3'), ([0, 0, 4, 2], '4'), ([0, 0, 4, 1], '5')]\n",
      "[[([0, 0, 1, 4], '1'), ([0, 0, 2, 4], '2'), ([0, 0, 4, 3], '3'), ([0, 0, 4, 2], '4'), ([0, 0, 1, 4], '5')]]\n"
     ]
    }
   ],
   "source": [
    "entradas = GeneticAlgorithm.poblacion_inicial(bin_dims,0.5,1)\n",
    "print(bin_dims)\n",
    "print(entradas)"
   ]
  },
  {
   "cell_type": "code",
   "execution_count": 5,
   "metadata": {},
   "outputs": [
    {
     "name": "stdout",
     "output_type": "stream",
     "text": [
      "1 5 V 2 H\n",
      "VVV\n"
     ]
    }
   ],
   "source": [
    "#material size\n",
    "area = [4,9]\n",
    "area = utils.vectorToCoordinates(area)\n",
    "guillotine = GuillotineAlgorithm()\n",
    "for entrada in entradas:\n",
    "    guillotine.cut(area,entrada)\n",
    "    a,b = guillotine.structure()\n",
    "    print(a)\n",
    "    print(b)"
   ]
  },
  {
   "cell_type": "code",
   "execution_count": 11,
   "metadata": {},
   "outputs": [
    {
     "data": {
      "text/plain": [
       "array([[0., 0., 1., 1., 0.],\n",
       "       [0., 0., 1., 1., 0.],\n",
       "       [0., 0., 0., 0., 0.],\n",
       "       [0., 0., 0., 0., 0.],\n",
       "       [0., 0., 0., 0., 0.]])"
      ]
     },
     "execution_count": 11,
     "metadata": {},
     "output_type": "execute_result"
    }
   ],
   "source": [
    "import numpy as np\n",
    "\n",
    "a =np.zeros(shape=(5,5))\n",
    "a[0:2,2:4]=1\n",
    "a"
   ]
  }
 ],
 "metadata": {
  "kernelspec": {
   "display_name": "Python 3.10.5 64-bit ('3.10.5')",
   "language": "python",
   "name": "python3"
  },
  "language_info": {
   "codemirror_mode": {
    "name": "ipython",
    "version": 3
   },
   "file_extension": ".py",
   "mimetype": "text/x-python",
   "name": "python",
   "nbconvert_exporter": "python",
   "pygments_lexer": "ipython3",
   "version": "3.10.5"
  },
  "orig_nbformat": 4,
  "vscode": {
   "interpreter": {
    "hash": "3ade41bec6c26bfb1b0a68e93966ada3966e872aeed9c65db90c67352ca8deff"
   }
  }
 },
 "nbformat": 4,
 "nbformat_minor": 2
}
