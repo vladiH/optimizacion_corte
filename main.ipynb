{
 "cells": [
  {
   "cell_type": "markdown",
   "metadata": {},
   "source": [
    "*Input space size and bins*"
   ]
  },
  {
   "cell_type": "code",
   "execution_count": 112,
   "metadata": {},
   "outputs": [],
   "source": [
    "from guillotine_algorithm import GuillotineAlgorithm\n",
    "from genetic_algorithm import GeneticAlgorithm\n",
    "import utils"
   ]
  },
  {
   "cell_type": "markdown",
   "metadata": {},
   "source": [
    "*Initialice inputs*"
   ]
  },
  {
   "cell_type": "code",
   "execution_count": 113,
   "metadata": {},
   "outputs": [
    {
     "name": "stdout",
     "output_type": "stream",
     "text": [
      "[([1, 4], '1'), ([4, 3], '2'), ([8, 6], '3'), ([7, 9], '4'), ([2, 6], '5'), ([5, 3], '6'), ([5, 2], '7'), ([8, 6], '8'), ([2, 9], '9'), ([9, 4], '10'), ([2, 5], '11'), ([2, 2], '12'), ([4, 4], '13'), ([2, 4], '14'), ([10, 3], '15'), ([8, 6], '16'), ([8, 6], '17'), ([2, 2], '18'), ([5, 8], '19'), ([2, 1], '20')]\n"
     ]
    }
   ],
   "source": [
    "bin_dims = utils.generate_input(20,1,10)       \n",
    "#[width, height]\n",
    "#bin_dims = [([4,1],'1'),([3,2],'2'),([4,3],'3'),([2,2],'4'),([2,1],'5'),([6,1],'6'),([4,2],'7'),([2,6],'8')]\n",
    "#material size\n",
    "print(bin_dims)\n",
    "area = [50,50]"
   ]
  },
  {
   "cell_type": "code",
   "execution_count": 128,
   "metadata": {},
   "outputs": [
    {
     "name": "stdout",
     "output_type": "stream",
     "text": [
      "==========\n",
      "['17 16 V 5 V 3 V 1 V 7 V 2 V 11 V 19 V 12 V 14 V 4 15 V 10 V 8 V 6 V 20 V 13 V 18 V 9 V H'\n",
      " 'VVHVVHVHVHHVVVVHVHHH']   0.3653333333333333\n",
      "==========\n",
      "['19 12 V 13 V 15 H 1 V 5 V 2 V 11 V 17 V 16 V 7 V 20 14 H 10 V 18 H 6 V 3 V 4 V 8 V 9 V H'\n",
      " 'VHHVHHVHHVHVHVVHHVVH']   0.28205128205128205\n",
      "==========\n",
      "['19 12 V 13 V 15 H 1 V 5 V 2 V 11 V 17 V 16 V 7 V 20 18 H 10 V 14 H 6 V 3 V 4 V 8 V 9 V H'\n",
      " 'VHHVHHVHHVHVVVVHHVVH']   0.28205128205128205\n",
      "==========\n",
      "['19 12 V 13 V 15 H 1 V 5 V 2 V 11 V 17 V 16 V 7 V 20 18 H 10 H 14 H 6 V 3 V 4 V 8 V 9 V H'\n",
      " 'VHHVHHVHHVHVVVVHHVVH']   0.28205128205128205\n",
      "==========\n",
      "['19 12 V 13 V 15 H 16 V 17 V 2 V 11 V 5 V 1 V 7 V 20 18 H 10 H 14 H 6 V 3 V 4 V 8 V 9 V H'\n",
      " 'VHHVHHVHHHHVVVVHHVVH']   0.2432432432432432\n",
      "==========\n",
      "['19 12 V 13 V 15 H 16 V 17 V 2 V 11 V 5 V 1 V 7 V 20 18 V 10 H 14 H 6 V 3 V 4 V 8 V 9 V H'\n",
      " 'VHHVHHVHHHHVVVVHHVVH']   0.2432432432432432\n",
      "==========\n",
      "['19 12 V 13 V 15 H 16 V 17 V 2 V 11 V 5 V 1 V 7 V 20 18 H 10 H 14 H 6 V 3 V 4 V 8 V 9 V H'\n",
      " 'VHHVHHVHHHHVVVVHHVVH']   0.2432432432432432\n",
      "==========\n",
      "['19 12 V 13 V 15 H 16 V 5 V 2 V 11 V 17 V 1 V 7 V 20 18 H 10 H 14 H 6 V 3 V 4 V 8 V 9 V H'\n",
      " 'VHHVHHVHHHHVVVVHHVVH']   0.2432432432432432\n",
      "==========\n",
      "['19 12 V 13 V 15 H 16 V 5 V 2 V 11 V 17 V 1 V 7 V 20 18 H 10 H 14 H 6 V 3 V 4 V 8 V 9 V H'\n",
      " 'VHHVHHVHHHHVVVVHHVVH']   0.2432432432432432\n",
      "==========\n",
      "['19 12 V 13 V 15 H 16 V 5 V 2 V 11 V 17 V 1 V 7 V 20 18 V 10 H 14 H 6 V 3 V 4 V 8 V 9 V H'\n",
      " 'VHHVHHVHHHHVVVVHHVVH']   0.2432432432432432\n",
      "==========\n",
      "['19 12 V 13 V 15 H 16 V 5 V 2 V 11 V 17 V 1 V 7 V 20 18 H 10 H 14 H 6 V 3 V 4 V 8 V 9 V H'\n",
      " 'VHHVHHVHHHHVVVVHHVVH']   0.2432432432432432\n",
      "==========\n",
      "['19 12 V 13 V 15 H 16 V 5 V 2 V 11 V 17 V 1 V 7 V 20 18 H 10 H 14 H 6 V 3 V 4 V 8 V 9 V H'\n",
      " 'VHHVHHVHHHHVVVVHHVVH']   0.2432432432432432\n",
      "==========\n",
      "['19 12 V 13 V 15 H 16 V 5 V 2 V 11 V 17 V 1 V 7 V 20 18 V 10 H 14 H 6 V 3 V 4 V 8 V 9 V H'\n",
      " 'VHHVHHVHHHHVVVVHHVVH']   0.2432432432432432\n",
      "==========\n",
      "['19 20 V 13 V 15 H 16 V 5 V 2 V 11 V 17 V 1 V 7 V 12 18 V 10 H 14 H 6 V 3 V 4 V 8 V 9 V H'\n",
      " 'VHHVHHVHHHHHVVVHHVVH']   0.2432432432432432\n",
      "==========\n",
      "['19 20 V 13 V 15 H 16 V 5 V 2 V 11 V 17 V 1 V 7 V 12 18 V 10 H 14 H 6 V 3 V 4 V 9 V 8 V H'\n",
      " 'VHHVHHVHHHHHVVVHHVHH']   0.2222222222222222\n",
      "==========\n",
      "['19 20 V 13 V 15 H 16 V 5 V 2 V 11 V 17 V 1 V 7 V 12 18 V 10 H 14 H 6 V 3 V 4 V 9 V 8 V H'\n",
      " 'VHHVHHVHHHHHVVVHHVHH']   0.2222222222222222\n",
      "==========\n",
      "['19 20 V 13 V 15 H 1 V 7 V 11 V 2 V 17 V 16 V 5 V 12 18 V 10 H 14 H 6 V 3 V 4 V 9 V 8 V H'\n",
      " 'VHHVHHHHHHHHVVVHHVHH']   0.19999999999999996\n",
      "==========\n",
      "['19 20 V 13 V 15 H 1 V 7 V 11 V 6 V 17 V 16 V 5 V 12 18 V 10 H 14 H 2 V 3 V 4 V 9 V 8 V H'\n",
      " 'VHHVHHHHHHHHVVVHHVHH']   0.19999999999999996\n",
      "==========\n",
      "['19 20 V 13 V 15 H 1 V 7 V 11 V 6 V 17 V 16 V 5 V 12 18 V 10 H 14 H 2 V 3 V 4 V 9 V 8 V H'\n",
      " 'VHHVHHHHHHHHVVVHHVHH']   0.19999999999999996\n",
      "==========\n",
      "['19 20 V 13 V 15 H 1 V 7 V 11 V 6 V 17 V 16 V 5 V 12 18 V 10 H 14 H 2 V 3 V 4 V 9 V 8 V H'\n",
      " 'VHHVHHHHHHHHVVVHHVHH']   0.19999999999999996\n",
      "==========\n",
      "['19 20 V 13 V 15 H 1 V 7 V 11 V 6 V 17 V 16 V 5 V 12 18 V 10 H 14 H 2 V 3 V 4 V 9 V 8 V H'\n",
      " 'VHHVHHHHHHHHVVVHHVHH']   0.19999999999999996\n",
      "==========\n",
      "['19 20 V 13 V 15 H 1 V 7 V 11 V 6 V 17 V 16 V 5 V 12 18 V 10 H 14 H 2 V 3 V 4 V 9 V 8 V H'\n",
      " 'VHHVHHHHHHHHVVVHHVHH']   0.19999999999999996\n",
      "==========\n",
      "['19 20 V 13 V 15 H 1 V 7 V 11 V 6 V 17 V 16 V 5 V 12 18 V 10 H 14 H 2 V 3 V 4 V 9 V 8 V H'\n",
      " 'VHHVHHHHHHHHVVVHHVHH']   0.19999999999999996\n",
      "==========\n",
      "['19 20 V 13 V 15 H 1 V 7 V 11 V 6 V 17 V 16 V 5 V 12 18 V 10 H 14 H 2 V 3 V 4 V 9 V 8 V H'\n",
      " 'VHHVHHHHHHHHVVVHHVHH']   0.19999999999999996\n",
      "==========\n",
      "['19 20 V 13 V 15 H 1 V 7 V 11 V 6 V 17 V 16 V 5 V 12 18 V 10 H 14 H 2 V 3 V 4 V 9 V 8 V H'\n",
      " 'VHHVHHHHHHHHVVVHHVHH']   0.19999999999999996\n",
      "==========\n",
      "['19 20 V 13 V 15 H 1 V 7 V 11 V 6 V 17 V 16 V 5 V 12 18 V 10 H 14 H 2 V 3 V 4 V 9 V 8 V H'\n",
      " 'VHHVHHHHHHHHVVVHHVHH']   0.19999999999999996\n",
      "==========\n",
      "['19 20 V 13 V 15 H 1 V 7 V 11 V 6 V 17 V 16 V 5 V 12 18 V 10 H 14 H 2 V 3 V 4 V 9 V 8 V H'\n",
      " 'VHHVHHHHHHHHVVVHHVHH']   0.19999999999999996\n",
      "==========\n",
      "['19 20 V 13 V 15 H 1 V 7 V 11 V 6 V 17 V 16 V 5 V 12 18 V 10 H 14 H 2 V 3 V 4 V 9 V 8 V H'\n",
      " 'VHHVHHHHHHHHVVVHHVHH']   0.19999999999999996\n",
      "==========\n",
      "['19 20 V 13 V 15 H 1 V 7 V 11 V 6 V 17 V 16 V 5 V 12 18 V 10 H 14 H 2 V 3 V 4 V 9 V 8 V H'\n",
      " 'VHHVHHHHHHHHVVVHHVHH']   0.19999999999999996\n",
      "==========\n",
      "['19 11 V 12 V 15 H 1 V 7 V 20 V 6 V 17 V 16 V 5 V 13 18 V 10 H 14 H 2 V 3 V 4 V 9 V 8 V H'\n",
      " 'VHHVHHHHHHHHVVVHHHHH']   0.19865319865319864\n",
      "==========\n",
      "['19 11 V 12 V 15 H 1 V 7 V 20 V 6 V 17 V 16 V 5 V 13 18 V 10 H 14 H 2 V 3 V 4 V 9 V 8 V H'\n",
      " 'VHHVHHHHHHHHVVVHHHHH']   0.19865319865319864\n",
      "==========\n",
      "['19 11 V 12 V 15 H 1 V 7 V 20 V 6 V 17 V 16 V 5 V 13 18 V 10 H 14 H 2 V 3 V 4 V 9 V 8 V H'\n",
      " 'VHHVHHHHHHHHVVVHHHHH']   0.19865319865319864\n",
      "==========\n",
      "['19 11 V 12 V 15 H 1 V 7 V 20 V 6 V 17 V 16 V 5 V 13 18 V 10 H 14 H 2 V 3 V 4 V 9 V 8 V H'\n",
      " 'VHHVHHHHHHHHVVVHHHHH']   0.19865319865319864\n",
      "==========\n",
      "['19 11 V 1 V 15 H 12 V 7 V 20 V 6 V 17 V 16 V 5 V 13 18 V 10 H 14 H 2 V 3 V 4 V 9 V 8 V H'\n",
      " 'VHHVHHHHHHHHVVVHHHHH']   0.19865319865319864\n",
      "==========\n",
      "['19 11 V 1 V 15 H 12 V 7 V 20 V 6 V 17 V 16 V 5 V 13 18 V 10 H 14 H 9 V 3 V 4 V 2 V 8 V H'\n",
      " 'VHHVHHHHHHHHVVVHHHHH']   0.19865319865319864\n",
      "==========\n",
      "['19 11 V 1 V 15 H 12 V 7 V 20 V 6 V 17 V 16 V 5 V 13 18 V 10 H 14 H 9 V 3 V 4 V 2 V 8 V H'\n",
      " 'VHHVHHHHHHHHVVVHHHHH']   0.19865319865319864\n",
      "==========\n",
      "['19 11 V 1 V 15 H 12 V 7 V 20 V 6 V 17 V 16 V 5 V 13 18 V 10 H 14 H 9 V 3 V 4 V 2 V 8 V H'\n",
      " 'VHHVHHHHHHHHVVVHHHHH']   0.19865319865319864\n",
      "==========\n",
      "['19 11 V 12 V 15 H 1 V 7 V 20 V 6 V 17 V 16 V 5 V 2 18 V 10 H 14 H 9 V 3 V 4 V 13 V 8 V H'\n",
      " 'VHVVHHHHHHHVVVVHHHHH']   0.17647058823529416\n",
      "==========\n",
      "['19 11 V 12 V 15 H 1 V 7 V 20 V 6 V 17 V 16 V 5 V 2 18 V 10 H 14 H 9 V 3 V 4 V 13 V 8 V H'\n",
      " 'VHVVHHHHHHHVVVVHHHHH']   0.17647058823529416\n",
      "==========\n",
      "['19 11 V 12 V 15 H 1 V 7 V 20 V 6 V 17 V 16 V 5 V 2 18 V 10 H 14 H 9 V 3 V 4 V 13 V 8 V H'\n",
      " 'VHVVHHHHHHHVVVVHHHHH']   0.17647058823529416\n",
      "==========\n",
      "['19 11 V 12 V 15 H 1 V 7 V 20 V 6 V 17 V 16 V 5 V 2 18 V 10 H 14 H 9 V 3 V 4 V 13 V 8 V H'\n",
      " 'VHVVHHHHHHHVVVVHHHHH']   0.17647058823529416\n",
      "==========\n",
      "['19 11 V 12 V 15 H 1 V 7 V 20 V 6 V 17 V 16 V 5 V 2 18 V 10 H 14 H 9 V 3 V 4 V 13 V 8 V H'\n",
      " 'VHVVHHHHHHHVVVVHHHHH']   0.17647058823529416\n",
      "==========\n",
      "['19 11 V 12 V 15 H 1 V 7 V 20 V 6 V 17 V 16 V 5 V 2 18 V 10 H 14 H 9 V 3 V 4 V 13 V 8 V H'\n",
      " 'VHHVHHHHHHHVVVVHHHHH']   0.17647058823529416\n",
      "==========\n",
      "['19 11 V 12 V 15 H 1 V 7 V 20 V 6 V 17 V 16 V 5 V 2 18 V 10 H 14 H 9 V 3 V 4 V 13 V 8 V H'\n",
      " 'VHHVHHHHHHHVVVVHHHHH']   0.17647058823529416\n",
      "==========\n",
      "['19 11 V 12 V 15 H 1 V 7 V 20 V 6 V 17 V 16 V 5 V 2 18 V 10 H 14 H 9 V 3 V 4 V 13 V 8 V H'\n",
      " 'VHHVHHHHHHHVVVVHHHHH']   0.17647058823529416\n",
      "==========\n",
      "['19 12 V 11 V 15 H 1 V 7 V 20 V 6 V 17 V 16 V 5 V 2 18 V 10 H 14 H 9 V 3 V 4 V 13 V 8 V H'\n",
      " 'VHHVHHHHHHHVVVVHHHHH']   0.17647058823529416\n",
      "==========\n",
      "['19 11 V 12 V 15 H 1 V 7 V 20 V 6 V 17 V 16 V 5 V 2 18 V 10 H 14 H 9 V 3 V 4 V 13 V 8 V H'\n",
      " 'VHHVHHHHHHHVVVVHHHHH']   0.17647058823529416\n",
      "==========\n",
      "['19 11 V 18 V 15 H 1 V 7 V 20 V 6 V 17 V 16 V 5 V 2 12 V 10 H 14 H 9 V 3 V 4 V 13 V 8 V H'\n",
      " 'VHVVHHHHHHHVVVVHHHHH']   0.17647058823529416\n",
      "==========\n",
      "['19 11 V 18 V 15 H 1 V 7 V 20 V 6 V 17 V 16 V 5 V 2 14 V 10 H 12 H 9 V 3 V 4 V 13 V 8 V H'\n",
      " 'VHVVHHHHHHHVVVHHHHHH']   0.17647058823529416\n",
      "==========\n",
      "['19 11 V 18 V 15 H 1 V 7 V 20 V 6 V 17 V 16 V 5 V 2 12 V 10 H 14 H 9 V 3 V 4 V 13 V 8 V H'\n",
      " 'VHVVHHHHHHHVVVVHHHHH']   0.17647058823529416\n",
      "==========\n",
      "['19 11 V 18 V 15 H 1 V 7 V 20 V 6 V 17 V 16 V 5 V 2 12 V 10 H 14 H 9 V 3 V 4 V 13 V 8 V H'\n",
      " 'VHVVHHHHHHHVVVVHHHHH']   0.17647058823529416\n",
      "==========\n",
      "['19 11 V 18 V 15 H 1 V 7 V 20 V 6 V 17 V 16 V 5 V 2 12 V 10 H 14 H 9 V 3 V 4 V 13 V 8 V H'\n",
      " 'VHVVHHHHHHHVVVVHHHHH']   0.17647058823529416\n",
      "==========\n",
      "['19 11 V 18 V 15 H 1 V 7 V 20 V 6 V 17 V 16 V 5 V 2 12 V 10 H 14 H 9 V 3 V 4 V 13 V 8 V H'\n",
      " 'VHVVHHHHHHHVVVVHHHHH']   0.17647058823529416\n",
      "==========\n",
      "['19 11 V 18 V 15 H 1 V 7 V 20 V 6 V 17 V 16 V 5 V 2 12 V 10 H 14 H 9 V 3 V 4 V 13 V 8 V H'\n",
      " 'VHVVHHHHHHHVVVVHHHHH']   0.17647058823529416\n",
      "==========\n",
      "['19 11 V 18 V 15 H 1 V 7 V 20 V 6 V 17 V 16 V 5 V 2 12 V 10 H 14 H 9 V 3 V 4 V 13 V 8 V H'\n",
      " 'VHVVHHHHHHHVVVVHHHHH']   0.17647058823529416\n",
      "==========\n",
      "['19 11 V 18 V 15 H 1 V 7 V 20 V 6 V 17 V 16 V 5 V 2 12 V 10 H 14 H 9 V 3 V 4 V 13 V 8 V H'\n",
      " 'VHVVHHHHHHHVVVVHHHHH']   0.17647058823529416\n",
      "==========\n",
      "['19 11 V 18 V 15 H 1 V 7 V 20 V 6 V 17 V 16 V 5 V 2 12 V 10 H 14 H 9 V 3 V 4 V 13 V 8 V H'\n",
      " 'VHVVHHHHHHHVVVVHHHHH']   0.17647058823529416\n",
      "==========\n",
      "['19 11 V 18 V 15 H 1 V 7 V 20 V 6 V 17 V 16 V 5 V 2 12 V 10 H 14 H 9 V 3 V 4 V 13 V 8 V H'\n",
      " 'VHVVHHHHHHHVVVVHHHHH']   0.17647058823529416\n",
      "==========\n",
      "['19 11 V 18 V 15 H 1 V 7 V 20 V 6 V 17 V 16 V 5 V 2 12 V 14 H 13 H 9 V 3 V 4 V 10 V 8 V H'\n",
      " 'VHVVHHHHHHHVVVHHHHHH']   0.1515151515151515\n",
      "==========\n",
      "['19 11 V 18 V 15 H 1 V 7 V 20 V 6 V 17 V 16 V 5 V 2 12 V 14 H 13 H 9 V 3 V 4 V 10 V 8 V H'\n",
      " 'VHVVHHHHHHHVVVHHHHHH']   0.1515151515151515\n",
      "==========\n",
      "['19 11 V 18 V 15 H 1 V 7 V 20 V 6 V 17 V 16 V 5 V 2 12 V 14 H 13 H 9 V 3 V 4 V 10 V 8 V H'\n",
      " 'VHVVHHHHHHHVVVHHHHHH']   0.1515151515151515\n",
      "==========\n",
      "['19 11 V 18 V 15 H 1 V 7 V 20 V 6 V 17 V 16 V 5 V 2 12 V 14 H 13 H 9 V 3 V 4 V 10 V 8 V H'\n",
      " 'VHVVHHHHHHHVVVHHHHHH']   0.1515151515151515\n",
      "==========\n",
      "['19 11 V 18 V 15 H 1 V 7 V 20 V 6 V 17 V 16 V 5 V 2 12 V 14 H 13 H 9 V 3 V 4 V 10 V 8 V H'\n",
      " 'VHVVHHHHHHHVVVHHHHHH']   0.1515151515151515\n",
      "==========\n",
      "['19 11 V 18 V 15 H 1 V 7 V 20 V 6 V 17 V 16 V 5 V 2 12 V 14 H 13 H 9 V 3 V 4 V 10 V 8 V H'\n",
      " 'VHVVHHHHHHHVVVHHHHHH']   0.1515151515151515\n",
      "==========\n",
      "['19 11 V 1 V 15 H 18 V 7 V 20 V 6 V 17 V 16 V 5 V 2 12 V 14 H 13 H 9 V 3 V 4 V 10 V 8 V H'\n",
      " 'VHHVVHHHHHHVVVHHHHHH']   0.1515151515151515\n",
      "==========\n",
      "['19 11 V 1 V 15 H 18 V 7 V 20 V 6 V 17 V 16 V 5 V 2 12 V 14 H 13 H 9 V 3 V 4 V 10 V 8 V H'\n",
      " 'VHHVVHHHHHHVVVHHHHHH']   0.1515151515151515\n",
      "==========\n",
      "['19 11 V 1 V 15 H 18 V 7 V 20 V 6 V 17 V 16 V 5 V 2 12 V 14 H 13 H 9 V 3 V 4 V 10 V 8 V H'\n",
      " 'VHHVVHHHHHHVVVHHHHHH']   0.1515151515151515\n",
      "==========\n",
      "['19 11 V 1 V 15 H 18 V 7 V 20 V 6 V 17 V 16 V 5 V 2 12 V 14 H 13 H 9 V 3 V 4 V 10 V 8 V H'\n",
      " 'VHHVVHHHHHHVVVHHHHHH']   0.1515151515151515\n",
      "==========\n",
      "['19 11 V 1 V 15 H 18 V 7 V 20 V 6 V 17 V 16 V 5 V 2 12 V 14 H 13 H 9 V 3 V 4 V 10 V 8 V H'\n",
      " 'VHHVVHHHHHHVVVHHHHHH']   0.1515151515151515\n",
      "==========\n",
      "['19 11 V 1 V 15 H 18 V 7 V 20 V 6 V 17 V 16 V 5 V 2 12 V 14 H 13 H 9 V 3 V 4 V 10 V 8 V H'\n",
      " 'VHHVVHHHHHHVVVHHHHHH']   0.1515151515151515\n",
      "==========\n",
      "['19 11 V 1 V 15 H 18 V 7 V 20 V 6 V 17 V 16 V 5 V 2 12 V 14 H 13 H 9 V 3 V 4 V 10 V 8 V H'\n",
      " 'VHHVVHHHHHHVVVHHHHHH']   0.1515151515151515\n",
      "==========\n",
      "['19 11 V 1 V 15 H 18 V 7 V 20 V 6 V 17 V 16 V 5 V 2 12 V 14 H 13 H 9 V 3 V 4 V 10 V 8 V H'\n",
      " 'VHHVVHHHHHHVVVHHHHHH']   0.1515151515151515\n",
      "==========\n",
      "['19 11 V 1 V 15 H 18 V 6 V 20 V 7 V 3 V 5 V 16 V 2 12 V 14 H 13 H 9 V 17 V 4 V 10 V 8 V H'\n",
      " 'VHHVVHHHHHHVVVHHHHHH']   0.1515151515151515\n",
      "==========\n",
      "['19 11 V 1 V 15 H 18 V 6 V 20 V 7 V 3 V 5 V 16 V 2 12 V 14 H 13 H 9 V 17 V 4 V 10 V 8 V H'\n",
      " 'VHHVVHHHHHHVVVHHHHHH']   0.1515151515151515\n",
      "==========\n",
      "['19 11 V 1 V 15 H 18 V 6 V 20 V 7 V 3 V 5 V 16 V 2 12 V 14 H 13 H 9 V 17 V 4 V 10 V 8 V H'\n",
      " 'VHHVVHHHHHHVVVHHHHHH']   0.1515151515151515\n",
      "==========\n",
      "['19 11 V 1 V 15 H 18 V 6 V 20 V 7 V 3 V 5 V 16 V 2 12 V 14 H 13 H 9 V 17 V 4 V 10 V 8 V H'\n",
      " 'VHHVVHHHHHHVVVHHHHHH']   0.1515151515151515\n",
      "==========\n",
      "['19 11 V 1 V 15 H 18 V 6 V 7 V 20 V 3 V 5 V 16 V 2 12 V 14 H 13 H 9 V 17 V 4 V 10 V 8 V H'\n",
      " 'VHHVVHHHHHHVVVHHHHHH']   0.1515151515151515\n",
      "==========\n",
      "['19 11 V 1 V 15 H 18 V 6 V 7 V 20 V 3 V 5 V 16 V 2 12 V 14 H 13 H 9 V 17 V 4 V 10 V 8 V H'\n",
      " 'VHHVVHHHHHHVVVHHHHHH']   0.1515151515151515\n",
      "==========\n",
      "['19 11 V 1 V 15 H 18 V 6 V 7 V 20 V 3 V 5 V 16 V 2 12 V 14 H 13 H 9 V 17 V 4 V 10 V 8 V H'\n",
      " 'VHHVVHHHHHHVVVHHHHHH']   0.1515151515151515\n",
      "==========\n",
      "['19 11 V 1 V 15 H 18 V 6 V 7 V 20 V 3 V 5 V 16 V 2 12 V 14 H 13 H 9 V 17 V 4 V 10 V 8 V H'\n",
      " 'VHHVVHHHHHHVVVHHHHHH']   0.1515151515151515\n",
      "==========\n",
      "['19 11 V 1 V 15 H 12 V 6 V 7 V 20 V 3 V 5 V 16 V 2 14 V 18 H 13 H 9 V 17 V 4 V 10 V 8 V H'\n",
      " 'VHHVHHHHHHHVVVHHHHHH']   0.1515151515151515\n",
      "==========\n",
      "['19 11 V 1 V 15 H 12 V 6 V 7 V 20 V 3 V 5 V 16 V 2 14 V 18 H 13 H 9 V 17 V 4 V 10 V 8 V H'\n",
      " 'VHHVHHHHHHHVVVHHHHHH']   0.1515151515151515\n",
      "==========\n",
      "['19 11 V 1 V 15 H 12 V 6 V 7 V 20 V 3 V 5 V 16 V 2 14 V 18 H 13 H 9 V 4 V 17 V 10 V 8 V H'\n",
      " 'VHHVHHHHHHHVVVHHHHHH']   0.1515151515151515\n",
      "==========\n",
      "['19 11 V 1 V 15 H 12 V 6 V 7 V 20 V 3 V 5 V 16 V 2 14 H 18 V 13 H 9 V 4 V 17 V 10 V 8 V H'\n",
      " 'VHHVHHHHHHHVVVHHHHHH']   0.1515151515151515\n",
      "==========\n",
      "['19 11 V 1 V 15 H 12 V 6 V 7 V 20 V 3 V 5 V 16 V 2 14 V 18 H 13 H 9 V 4 V 17 V 10 V 8 V H'\n",
      " 'VHHVHHHHHHHVVVHHHHHH']   0.1515151515151515\n",
      "==========\n",
      "['19 11 V 1 V 15 H 12 V 6 V 7 V 20 V 3 V 5 V 16 V 2 14 H 18 V 13 H 9 V 4 V 17 V 10 V 8 V H'\n",
      " 'VHHVHHHHHHHVVVHHHHHH']   0.1515151515151515\n",
      "==========\n",
      "['19 11 V 1 V 15 H 12 V 6 V 7 V 20 V 5 V 3 V 16 V 2 14 H 18 V 13 H 9 V 4 V 17 V 10 V 8 V H'\n",
      " 'VHHVHHHHHHHVVVHHHHHH']   0.1515151515151515\n",
      "==========\n",
      "['19 11 V 12 V 15 H 1 V 6 V 7 V 20 V 3 V 5 V 16 V 2 14 H 18 V 13 H 9 V 4 V 17 V 10 V 8 V H'\n",
      " 'VHVVHHHHHHHVVVHHHHHH']   0.1515151515151515\n",
      "==========\n",
      "['19 11 V 1 V 15 H 12 V 6 V 7 V 20 V 3 V 5 V 16 V 2 14 H 18 V 13 H 9 V 4 V 17 V 10 V 8 V H'\n",
      " 'VHHVHHHHHHHVVVHHHHHH']   0.1515151515151515\n",
      "==========\n",
      "['19 11 V 1 V 15 H 12 V 6 V 7 V 20 V 3 V 5 V 16 V 2 14 H 18 V 13 H 9 V 4 V 17 V 10 V 8 V H'\n",
      " 'VHHVHHHHHHHVVVHHHHHH']   0.1515151515151515\n",
      "==========\n",
      "['19 11 V 1 V 15 H 12 V 6 V 3 V 20 V 7 V 5 V 16 V 2 14 H 18 V 13 H 9 V 4 V 17 V 10 V 8 V H'\n",
      " 'VHHVHHHHHHHVVVHHHHHH']   0.1515151515151515\n",
      "==========\n",
      "['19 11 V 1 V 15 H 12 V 6 V 3 V 20 V 7 V 5 V 16 V 2 14 H 18 V 13 H 17 V 4 V 9 V 10 V 8 V H'\n",
      " 'VHHVHHHHHHHVVVHHHHHH']   0.1515151515151515\n",
      "==========\n",
      "['19 11 V 1 V 15 H 7 V 5 V 3 V 20 V 12 V 6 V 16 V 2 14 H 18 V 13 H 9 V 4 V 17 V 10 V 8 V H'\n",
      " 'VHHVHHHHHHHVVVHHVHHH']   0.1515151515151515\n",
      "==========\n",
      "['19 6 V 1 V 15 H 7 V 5 V 3 V 20 V 12 V 11 V 16 V 2 14 H 18 V 13 H 9 V 4 V 17 V 10 V 8 V H'\n",
      " 'VHHVHHHHHHHVVVHHVHHH']   0.1515151515151515\n",
      "==========\n",
      "['19 6 V 1 V 15 H 7 V 5 V 3 V 20 V 12 V 11 V 16 V 2 14 H 18 V 13 H 9 V 4 V 17 V 10 V 8 V H'\n",
      " 'VHHVHHHHHHHVVVHHVHHH']   0.1515151515151515\n",
      "==========\n",
      "['19 6 V 1 V 15 H 7 V 5 V 3 V 20 V 12 V 11 V 17 V 2 14 H 18 V 13 H 9 V 4 V 16 V 10 V 8 V H'\n",
      " 'VHHVHHHHHHHVVVHHVHHH']   0.1515151515151515\n",
      "==========\n",
      "['19 6 V 1 V 15 H 7 V 5 V 3 V 20 V 12 V 11 V 17 V 2 14 H 18 V 13 H 9 V 4 V 16 V 10 V 8 V H'\n",
      " 'VHHVHHHHHHHVVVHHVHHH']   0.1515151515151515\n",
      "==========\n",
      "['19 6 V 1 V 15 H 7 V 5 V 3 V 20 V 12 V 11 V 17 V 2 14 H 18 V 13 H 9 V 4 V 16 V 10 V 8 V H'\n",
      " 'VHHVHHHHHHHVVVHHVHHH']   0.1515151515151515\n",
      "==========\n",
      "['19 6 V 1 V 15 H 7 V 5 V 3 V 20 V 12 V 11 V 17 V 2 14 H 18 V 13 H 9 V 4 V 16 V 10 V 8 V H'\n",
      " 'VHHVHHHHHHHVVVHHVHHH']   0.1515151515151515\n",
      "==========\n",
      "['19 6 V 1 V 15 H 7 V 5 V 3 V 20 V 12 V 11 V 17 V 2 14 H 18 V 13 H 9 V 4 V 16 V 8 V 10 V H'\n",
      " 'VHHVHHHHHHHVVVHHVHHH']   0.1515151515151515\n",
      "==========\n",
      "['19 6 V 1 V 15 H 7 V 5 V 3 V 20 V 12 V 11 V 17 V 2 14 H 18 V 13 H 9 V 4 V 16 V 10 V 8 V H'\n",
      " 'VHHVHHHHHHHVVVHHVHHH']   0.1515151515151515\n",
      "==========\n",
      "['19 6 V 1 V 15 H 7 V 5 V 3 V 20 V 12 V 11 V 17 V 2 14 H 18 V 13 H 9 V 4 V 16 V 10 V 8 V H'\n",
      " 'VHHVHHHHHHHVVVHHVHHH']   0.1515151515151515\n",
      "==========\n",
      "['19 6 V 1 V 15 H 7 V 5 V 3 V 20 V 12 V 11 V 17 V 2 14 H 18 V 13 H 9 V 4 V 16 V 10 V 8 V H'\n",
      " 'VHHVHHHHHHHVVVHHVHHH']   0.1515151515151515\n",
      "==========\n",
      "['19 6 V 1 V 15 H 7 V 5 V 17 V 20 V 12 V 11 V 3 V 2 14 H 18 V 13 H 9 V 4 V 16 V 10 V 8 V H'\n",
      " 'VHHVHHHHHHHVVVHHVHHH']   0.1515151515151515\n",
      "==========\n",
      "['19 6 V 1 V 15 H 7 V 5 V 17 V 20 V 12 V 11 V 3 V 2 14 H 18 V 13 H 9 V 4 V 16 V 10 V 8 V H'\n",
      " 'VHHVHHHHHHHVVVHHVHHH']   0.1515151515151515\n",
      "==========\n",
      "['19 6 V 1 V 15 H 7 V 5 V 17 V 20 V 12 V 11 V 3 V 2 14 H 18 V 13 H 9 V 4 V 16 V 10 V 8 V H'\n",
      " 'VHHVHHHHHHHVVVHHVHHH']   0.1515151515151515\n",
      "==========\n",
      "['19 6 V 1 V 15 H 7 V 5 V 17 V 20 V 12 V 11 V 3 V 2 14 H 18 V 13 H 9 V 4 V 16 V 10 V 8 V H'\n",
      " 'VHHVHHHHHHHVVVHHVHHH']   0.1515151515151515\n",
      "==========\n",
      "['19 6 V 1 V 15 H 7 V 5 V 17 V 20 V 12 V 11 V 3 V 2 14 H 18 V 13 H 9 V 8 V 16 V 10 V 4 V H'\n",
      " 'VHHVHHHHHHHVVVHHHVHH']   0.1515151515151515\n",
      "==========\n",
      "['19 6 V 1 V 15 H 7 V 5 V 17 V 20 V 12 V 11 V 3 V 2 14 H 18 V 13 H 9 V 8 V 16 V 10 V 4 V H'\n",
      " 'VHHVHHHHHHHVVVHHHVHH']   0.1515151515151515\n",
      "==========\n",
      "['19 6 V 1 V 15 H 7 V 5 V 17 V 20 V 12 V 11 V 3 V 2 14 H 18 V 13 H 9 V 8 V 16 V 10 V 4 V H'\n",
      " 'VHHVHHHHHHHVVVHHHVHH']   0.1515151515151515\n",
      "==========\n",
      "['19 6 V 1 V 15 H 7 V 5 V 17 V 20 V 12 V 11 V 3 V 2 14 H 18 V 13 H 9 V 8 V 16 V 10 V 4 V H'\n",
      " 'VHHVHHHHHHHVVVHHHVHH']   0.1515151515151515\n",
      "==========\n",
      "['19 6 V 1 V 15 H 7 V 5 V 17 V 20 V 12 V 11 V 3 V 2 14 H 18 V 13 H 9 V 8 V 16 V 10 V 4 V H'\n",
      " 'VHHVHHHHHHHVVVHHHVHH']   0.1515151515151515\n"
     ]
    }
   ],
   "source": [
    "a = GeneticAlgorithm(bin_dims,area)\n",
    "fittnes = a.run(bin_dims,4,120,0.7,0.8)"
   ]
  },
  {
   "cell_type": "code",
   "execution_count": 129,
   "metadata": {},
   "outputs": [
    {
     "data": {
      "text/plain": [
       "11145"
      ]
     },
     "execution_count": 129,
     "metadata": {},
     "output_type": "execute_result"
    }
   ],
   "source": [
    "from area import Stack\n",
    "import matplotlib.pyplot as plt\n",
    "import numpy as np\n",
    "stack = Stack()\n",
    "len(fittnes)"
   ]
  },
  {
   "cell_type": "code",
   "execution_count": 116,
   "metadata": {},
   "outputs": [],
   "source": [
    "#%matplotlib inline\n",
    "import matplotlib.pyplot as plt\n",
    "#plt.style.use('seaborn-whitegrid')"
   ]
  },
  {
   "cell_type": "code",
   "execution_count": 117,
   "metadata": {},
   "outputs": [
    {
     "data": {
      "image/png": "[encoded data removed]",
      "text/plain": [
       "<Figure size 640x480 with 1 Axes>"
      ]
     },
     "metadata": {},
     "output_type": "display_data"
    }
   ],
   "source": [
    "fig = plt.figure()\n",
    "ax = plt.axes()\n",
    "scores, chromosome = list(zip(*fittnes))\n",
    "x = range(len(scores))\n",
    "ax.plot(x, scores);"
   ]
  },
  {
   "cell_type": "code",
   "execution_count": 130,
   "metadata": {},
   "outputs": [
    {
     "data": {
      "image/png": "[encoded data removed]",
      "text/plain": [
       "<Figure size 640x480 with 1 Axes>"
      ]
     },
     "metadata": {},
     "output_type": "display_data"
    }
   ],
   "source": [
    "fig = plt.figure()\n",
    "ax = plt.axes()\n",
    "scores, chromosome = list(zip(*fittnes))\n",
    "x = range(len(scores))\n",
    "ax.plot(x, scores);"
   ]
  },
  {
   "cell_type": "code",
   "execution_count": 131,
   "metadata": {},
   "outputs": [
    {
     "data": {
      "text/plain": [
       "<matplotlib.image.AxesImage at 0x16c316dc1c0>"
      ]
     },
     "execution_count": 131,
     "metadata": {},
     "output_type": "execute_result"
    },
    {
     "data": {
      "image/png": "[encoded data removed]",
      "text/plain": [
       "<Figure size 480x480 with 1 Axes>"
      ]
     },
     "metadata": {},
     "output_type": "display_data"
    }
   ],
   "source": [
    "m = stack.binsPositions(a.data,fittnes[0][1],area)\n",
    "plt.matshow(m)"
   ]
  },
  {
   "cell_type": "code",
   "execution_count": 134,
   "metadata": {},
   "outputs": [
    {
     "data": {
      "text/plain": [
       "<matplotlib.image.AxesImage at 0x16c5178a620>"
      ]
     },
     "execution_count": 134,
     "metadata": {},
     "output_type": "execute_result"
    },
    {
     "data": {
      "image/png": "[encoded data removed]",
      "text/plain": [
       "<Figure size 480x480 with 1 Axes>"
      ]
     },
     "metadata": {},
     "output_type": "display_data"
    }
   ],
   "source": [
    "m = stack.binsPositions(a.data,fittnes[7000][1],area)\n",
    "plt.matshow(m)"
   ]
  },
  {
   "cell_type": "code",
   "execution_count": null,
   "metadata": {},
   "outputs": [],
   "source": []
  }
 ],
 "metadata": {
  "kernelspec": {
   "display_name": "Python 3.10.5 64-bit ('3.10.5')",
   "language": "python",
   "name": "python3"
  },
  "language_info": {
   "codemirror_mode": {
    "name": "ipython",
    "version": 3
   },
   "file_extension": ".py",
   "mimetype": "text/x-python",
   "name": "python",
   "nbconvert_exporter": "python",
   "pygments_lexer": "ipython3",
   "version": "3.10.5"
  },
  "orig_nbformat": 4,
  "vscode": {
   "interpreter": {
    "hash": "3ade41bec6c26bfb1b0a68e93966ada3966e872aeed9c65db90c67352ca8deff"
   }
  }
 },
 "nbformat": 4,
 "nbformat_minor": 2
}
